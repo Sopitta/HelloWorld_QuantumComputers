{
 "cells": [
  {
   "cell_type": "markdown",
   "metadata": {},
   "source": [
    "# 01 Creation of the first bell state\n",
    "\n",
    "This Jupyter notebook provides a practical guide to help ypur understanding of the basics to write quantum algorithms using Qiskit. \n",
    "Our objective is to create a bell state or an ERP Pair (Einstein, Podolsky, Rosen pair) which essentially refers to a pair of qubits that are maximally entangled. In this notebook, we are going to implement the bell state below\n",
    "\n",
    "![bell_state_1.png](bell_state_1.png)\n",
    "\n",
    "This state can be implemented using a two qubit circuit consisting of a Hadamard gate and CNOT gate. In the circuit shown above, CNOT gate forces the second qubit to have same value as the first qubit, creating a maximally entangled state; an EPR pair\n"
   ]
  },
  {
   "cell_type": "markdown",
   "metadata": {},
   "source": [
    "## Step 0 : Importing necessary libraries"
   ]
  },
  {
   "cell_type": "code",
   "execution_count": 1,
   "metadata": {},
   "outputs": [],
   "source": [
    "import qiskit\n",
    "from qiskit import QuantumCircuit\n",
    "from qiskit_ibm_runtime import QiskitRuntimeService"
   ]
  },
  {
   "cell_type": "code",
   "execution_count": 2,
   "metadata": {},
   "outputs": [
    {
     "data": {
      "text/plain": [
       "'1.1.1'"
      ]
     },
     "execution_count": 2,
     "metadata": {},
     "output_type": "execute_result"
    }
   ],
   "source": [
    "qiskit.__version__"
   ]
  },
  {
   "cell_type": "markdown",
   "metadata": {},
   "source": [
    "this section, you only have to set up once"
   ]
  },
  {
   "cell_type": "code",
   "execution_count": null,
   "metadata": {},
   "outputs": [],
   "source": [
    "service = QiskitRuntimeService(channel=\"ibm_quantum\", # ibm_cloud \n",
    "                               token = 'YourAPIToken')"
   ]
  },
  {
   "cell_type": "code",
   "execution_count": null,
   "metadata": {},
   "outputs": [],
   "source": [
    "# save the account here if you don't want to log in again\n",
    "QiskitRuntimeService.save_account(channel=\"ibm_quantum\", # ibm_cloud \n",
    "                               token = 'YourAPIToken')"
   ]
  },
  {
   "cell_type": "markdown",
   "metadata": {},
   "source": [
    "After saving the account, try initiating the service without the API token"
   ]
  },
  {
   "cell_type": "code",
   "execution_count": 3,
   "metadata": {},
   "outputs": [],
   "source": [
    "service = QiskitRuntimeService()"
   ]
  },
  {
   "cell_type": "code",
   "execution_count": 4,
   "metadata": {},
   "outputs": [],
   "source": [
    "backend = service.backend(name = \"ibm_brisbane\")"
   ]
  },
  {
   "cell_type": "code",
   "execution_count": 5,
   "metadata": {},
   "outputs": [
    {
     "data": {
      "text/plain": [
       "127"
      ]
     },
     "execution_count": 5,
     "metadata": {},
     "output_type": "execute_result"
    }
   ],
   "source": [
    "backend.num_qubits"
   ]
  },
  {
   "cell_type": "markdown",
   "metadata": {},
   "source": [
    "## Step 1 : Define a circuit"
   ]
  },
  {
   "cell_type": "markdown",
   "metadata": {},
   "source": [
    "To create the bell state, we need two qubits. In addition, we will store the result of the circuit execution in a classical bit"
   ]
  },
  {
   "cell_type": "code",
   "execution_count": 6,
   "metadata": {},
   "outputs": [
    {
     "data": {
      "image/png": "[encoded data removed]",
      "text/plain": [
       "<Figure size 161.878x284.278 with 1 Axes>"
      ]
     },
     "execution_count": 6,
     "metadata": {},
     "output_type": "execute_result"
    }
   ],
   "source": [
    "qc = QuantumCircuit(2,2) #create a quantum circuit with two quibit and two classical bit\n",
    "qc.draw('mpl') #visualize the circuit"
   ]
  },
  {
   "cell_type": "markdown",
   "metadata": {},
   "source": [
    "## Step 2 : Applying gates"
   ]
  },
  {
   "cell_type": "markdown",
   "metadata": {},
   "source": [
    "After we initializ the circuit, we need to apply two gates :\n",
    "+ A Hadamard gate (H) : \n",
    "+ A controlled NOT gate (CNOT)\n",
    "\n",
    "The Hadamard gate is a unary gate because it operates on just one qubit. <br />\n",
    "The CNOT gate operates on two qubits, making it a gate of arity 2"
   ]
  },
  {
   "cell_type": "code",
   "execution_count": 7,
   "metadata": {},
   "outputs": [
    {
     "data": {
      "image/png": "[encoded data removed]",
      "text/plain": [
       "<Figure size 287.294x284.278 with 1 Axes>"
      ]
     },
     "execution_count": 7,
     "metadata": {},
     "output_type": "execute_result"
    }
   ],
   "source": [
    "qc.h(0) #add Hadamard gate\n",
    "qc.cx(0, 1) #add CNOT gate\n",
    "qc.draw(\"mpl\")\n"
   ]
  },
  {
   "cell_type": "markdown",
   "metadata": {},
   "source": [
    "Now the circuit is ready to be executed on a simulator! :D"
   ]
  },
  {
   "cell_type": "markdown",
   "metadata": {},
   "source": [
    "## Step 3: Printing the information of the circuit"
   ]
  },
  {
   "cell_type": "code",
   "execution_count": 8,
   "metadata": {},
   "outputs": [
    {
     "name": "stdout",
     "output_type": "stream",
     "text": [
      "Number of qubits:  2\n",
      "Number of classical bits:  2\n",
      "Circuit depth:  2\n"
     ]
    }
   ],
   "source": [
    "print(\"Number of qubits: \", qc.num_qubits)\n",
    "print(\"Number of classical bits: \", qc.num_clbits)\n",
    "print(\"Circuit depth: \", qc.depth())"
   ]
  },
  {
   "cell_type": "markdown",
   "metadata": {},
   "source": [
    "## Step 4 : Run the circuit on a simulator"
   ]
  },
  {
   "cell_type": "markdown",
   "metadata": {},
   "source": [
    "In this section, we are going to use first the [StatevectorSimulator](https://qiskit.github.io/qiskit-aer/stubs/qiskit_aer.StatevectorSimulator.html#qiskit_aer.StatevectorSimulator) from qiskit_aer to visualize the resulting state vector\n"
   ]
  },
  {
   "cell_type": "code",
   "execution_count": 9,
   "metadata": {},
   "outputs": [],
   "source": [
    "from qiskit_aer import StatevectorSimulator\n",
    "\n",
    "simulator_aerlegacy = StatevectorSimulator()\n",
    "result_aerlegacy = simulator_aerlegacy.run(qc).result()"
   ]
  },
  {
   "cell_type": "code",
   "execution_count": 10,
   "metadata": {},
   "outputs": [],
   "source": [
    "psi = result_aerlegacy.get_statevector()"
   ]
  },
  {
   "cell_type": "code",
   "execution_count": 11,
   "metadata": {},
   "outputs": [
    {
     "data": {
      "text/latex": [
       "$$\\frac{\\sqrt{2}}{2} |00\\rangle+\\frac{\\sqrt{2}}{2} |11\\rangle$$"
      ],
      "text/plain": [
       "<IPython.core.display.Latex object>"
      ]
     },
     "metadata": {},
     "output_type": "display_data"
    }
   ],
   "source": [
    "display(psi.draw(output='latex'))  #writing the results in latex "
   ]
  },
  {
   "cell_type": "markdown",
   "metadata": {},
   "source": [
    "The result demonstrates that the states $|00\\rangle$ and $|11\\rangle$ are equally likely to be measured.  Other states, such as $|01\\rangle$ or $|10\\rangle$, have zero probability of being measured in an ideal scenario without noise."
   ]
  },
  {
   "cell_type": "markdown",
   "metadata": {},
   "source": [
    "This section below shows how we can run the circuit on Aer simulator without any noise model"
   ]
  },
  {
   "cell_type": "code",
   "execution_count": 12,
   "metadata": {},
   "outputs": [
    {
     "data": {
      "image/png": "[encoded data removed]",
      "text/plain": [
       "<Figure size 538.128x284.278 with 1 Axes>"
      ]
     },
     "execution_count": 12,
     "metadata": {},
     "output_type": "execute_result"
    }
   ],
   "source": [
    "import qiskit \n",
    "from qiskit import transpile\n",
    "from qiskit_aer import AerSimulator\n",
    "\n",
    "# Construct an ideal simulator\n",
    "simulator = AerSimulator()\n",
    "qc.measure_all(add_bits=False)\n",
    "qc.draw('mpl',style='clifford')\n"
   ]
  },
  {
   "cell_type": "code",
   "execution_count": 13,
   "metadata": {},
   "outputs": [],
   "source": [
    "circ = transpile(qc,simulator) # Transpile for simulator\n",
    "sim_result = simulator.run(circ, simulator=1024).result()\n"
   ]
  },
  {
   "cell_type": "code",
   "execution_count": 14,
   "metadata": {},
   "outputs": [],
   "source": [
    "counts = sim_result.get_counts()"
   ]
  },
  {
   "cell_type": "code",
   "execution_count": 15,
   "metadata": {},
   "outputs": [
    {
     "name": "stdout",
     "output_type": "stream",
     "text": [
      "Measurement: 00, Hits: 522, Probability: 0.509765625\n",
      "Measurement: 11, Hits: 502, Probability: 0.490234375\n"
     ]
    }
   ],
   "source": [
    "experiment = sim_result._get_experiment()\n",
    "\n",
    "for sample in counts:\n",
    "    print(f\"Measurement: {sample}, Hits: {counts[sample]}, Probability: {counts[sample]/experiment.shots}\")"
   ]
  },
  {
   "cell_type": "code",
   "execution_count": 16,
   "metadata": {},
   "outputs": [
    {
     "data": {
      "image/png": "[encoded data removed]",
      "text/plain": [
       "<Figure size 640x480 with 1 Axes>"
      ]
     },
     "execution_count": 16,
     "metadata": {},
     "output_type": "execute_result"
    }
   ],
   "source": [
    "# Let's visualize with histograms!\n",
    "from qiskit.visualization import plot_histogram\n",
    "plot_histogram(counts, title='Bell-State counts')"
   ]
  },
  {
   "cell_type": "markdown",
   "metadata": {},
   "source": [
    "## Step 5 : Eexcute it on real hardware!"
   ]
  },
  {
   "cell_type": "code",
   "execution_count": 17,
   "metadata": {},
   "outputs": [],
   "source": [
    "from qiskit_ibm_runtime import SamplerV2 as Sampler\n",
    "from qiskit.transpiler.preset_passmanagers import generate_preset_pass_manager\n",
    "\n",
    "# Set up qiskit runtume service, we choose the backend with the least queue :D\n",
    "service = QiskitRuntimeService()\n",
    "backend = service.least_busy(operational=True, simulator=False, min_num_qubits=2) \n",
    "transpiled_qc = transpile(qc,backend)"
   ]
  },
  {
   "cell_type": "code",
   "execution_count": 19,
   "metadata": {},
   "outputs": [],
   "source": [
    "pm = generate_preset_pass_manager(optimization_level=1, backend=backend)\n",
    "isa_circuit = pm.run(transpiled_qc)"
   ]
  },
  {
   "cell_type": "code",
   "execution_count": 20,
   "metadata": {},
   "outputs": [],
   "source": [
    "sampler = Sampler(mode=backend)"
   ]
  },
  {
   "cell_type": "markdown",
   "metadata": {},
   "source": [
    "now we are sending the job to queue on the hardware with 1024 shots. if you need to cancel the job, use job.cancel()"
   ]
  },
  {
   "cell_type": "code",
   "execution_count": 21,
   "metadata": {},
   "outputs": [
    {
     "name": "stdout",
     "output_type": "stream",
     "text": [
      ">>> Job ID: ctf2rs3xgmhg0084xqq0\n",
      ">>> Job Status: QUEUED\n"
     ]
    }
   ],
   "source": [
    "job = sampler.run([isa_circuit],shots=1024)\n",
    "print(f\">>> Job ID: {job.job_id()}\")\n",
    "print(f\">>> Job Status: {job.status()}\")"
   ]
  },
  {
   "cell_type": "code",
   "execution_count": null,
   "metadata": {},
   "outputs": [],
   "source": [
    "# job.result() only available when the job is completed\n",
    "job_result = job.result()\n",
    "real_counts = job_result[0].data.c.get_counts()"
   ]
  },
  {
   "cell_type": "code",
   "execution_count": null,
   "metadata": {},
   "outputs": [],
   "source": [
    "plot_histogram(real_counts, title='Bell-State counts')"
   ]
  },
  {
   "cell_type": "code",
   "execution_count": null,
   "metadata": {},
   "outputs": [],
   "source": [
    "data = [\n",
    "  counts, # simulator results\n",
    "  real_counts, # real hardware results\n",
    "]\n",
    "legend = ['Simulator', 'IBM QPU']\n",
    "title = 'Comparison Simulator vs. IBM QPU'\n",
    "\n",
    "plot_histogram(data, title=title, legend=legend)"
   ]
  },
  {
   "cell_type": "markdown",
   "metadata": {},
   "source": [
    "Let's compare the simulator's results with those obtained from the IBM QPU. The simulator, being an ideal state, will never yield measurements for states $|01\\rangle$ and $|10\\rangle$. However, the IBM QPU, as a real-world quantum device, is susceptible to noise. This noise may show as non-zero counts for  $|01\\rangle$ and $|10\\rangle$, with the extent of these deviations depending on the current calibration quality of the device."
   ]
  }
 ],
 "metadata": {
  "kernelspec": {
   "display_name": "quantum_computing",
   "language": "python",
   "name": "python3"
  },
  "language_info": {
   "codemirror_mode": {
    "name": "ipython",
    "version": 3
   },
   "file_extension": ".py",
   "mimetype": "text/x-python",
   "name": "python",
   "nbconvert_exporter": "python",
   "pygments_lexer": "ipython3",
   "version": "3.12.4"
  }
 },
 "nbformat": 4,
 "nbformat_minor": 2
}
